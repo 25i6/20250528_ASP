{
 "cells": [
  {
   "cell_type": "code",
   "execution_count": null,
   "id": "82a4aa84",
   "metadata": {},
   "outputs": [],
   "source": [
    "print(\"Hello World.\")"
   ]
  }
 ],
 "metadata": {
  "kernelspec": {
   "display_name": "base",
   "language": "python",
   "name": "python3"
  },
  "language_info": {
   "name": "python",
   "version": "3.11.7"
  }
 },
 "nbformat": 4,
 "nbformat_minor": 5
}
