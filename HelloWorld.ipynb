{
 "cells": [
  {
   "cell_type": "code",
   "execution_count": null,
   "id": "82a4aa84",
   "metadata": {},
   "outputs": [],
   "source": [
    "print(\"Hello World.\")"
   ]
  },
  {
   "cell_type": "markdown",
   "id": "3acdc0ac",
   "metadata": {},
   "source": [
    "2025年5月28日．MLLM上から変更できるか確認．"
   ]
  },
  {
   "cell_type": "code",
   "execution_count": null,
   "id": "8722852c",
   "metadata": {},
   "outputs": [],
   "source": [
    "import torch\n",
    "print(torch.__version__)\n",
    "print(torch.cuda.is_available())"
   ]
  },
  {
   "cell_type": "markdown",
   "id": "81fab417",
   "metadata": {},
   "source": [
    "2025/06/04複数のライブラリのバージョン確認．"
   ]
  },
  {
   "cell_type": "code",
   "execution_count": 14,
   "id": "222c20c8",
   "metadata": {},
   "outputs": [
    {
     "name": "stdout",
     "output_type": "stream",
     "text": [
      "truecase : インポート成功, バージョン: 0.0.14\n",
      "tqdm : インポート成功, バージョン: 4.65.0\n",
      "pyhocon : インポート成功, バージョン: バージョン情報なし\n",
      "scipy : インポート成功, バージョン: 1.15.3\n",
      "numpy : インポート成功, バージョン: 1.26.0\n",
      "torch : インポート成功, バージョン: 2.1.0\n",
      "huggingface_hub : インポート成功, バージョン: 0.32.4\n",
      "transformers : インポート成功, バージョン: 4.52.4\n",
      "sentencepiece : インポート成功, バージョン: 0.2.0\n"
     ]
    }
   ],
   "source": [
    "libraries = {\n",
    "    \"truecase\": \"truecase\",\n",
    "    \"tqdm\": \"tqdm\",\n",
    "    \"pyhocon\": \"pyhocon\",\n",
    "    \"scipy\": \"scipy\",\n",
    "    \"numpy\": \"numpy\",\n",
    "    \"torch\": \"torch\",\n",
    "    \"huggingface_hub\": \"huggingface_hub\",\n",
    "    \"transformers\": \"transformers\",\n",
    "    \"sentencepiece\": \"sentencepiece\"\n",
    "}\n",
    "\n",
    "def check_libraries(libs):\n",
    "    for name, module_name in libs.items():\n",
    "        try:\n",
    "            module = __import__(module_name)\n",
    "            version = getattr(module, \"__version__\", \"バージョン情報なし\")\n",
    "            print(f\"{name} : インポート成功, バージョン: {version}\")\n",
    "        except ImportError:\n",
    "            print(f\"{name} : インポート失敗\")\n",
    "        except Exception as e:\n",
    "            print(f\"{name} : エラー発生 - {e}\")\n",
    "\n",
    "if __name__ == \"__main__\":\n",
    "    check_libraries(libraries)\n"
   ]
  },
  {
   "cell_type": "markdown",
   "id": "6a060690",
   "metadata": {},
   "source": [
    "numpyのみ確認．"
   ]
  },
  {
   "cell_type": "code",
   "execution_count": null,
   "id": "d3b07072",
   "metadata": {},
   "outputs": [],
   "source": [
    "import numpy\n",
    "print(numpy.__version__)"
   ]
  },
  {
   "cell_type": "markdown",
   "id": "39954408",
   "metadata": {},
   "source": [
    "pytorchの確認．"
   ]
  },
  {
   "cell_type": "code",
   "execution_count": 15,
   "id": "1dfc7338",
   "metadata": {},
   "outputs": [
    {
     "ename": "NameError",
     "evalue": "name 'model' is not defined",
     "output_type": "error",
     "traceback": [
      "\u001b[0;31m---------------------------------------------------------------------------\u001b[0m",
      "\u001b[0;31mNameError\u001b[0m                                 Traceback (most recent call last)",
      "Cell \u001b[0;32mIn[15], line 2\u001b[0m\n\u001b[1;32m      1\u001b[0m \u001b[38;5;28;01mfrom\u001b[39;00m \u001b[38;5;21;01mtorch\u001b[39;00m\u001b[38;5;21;01m.\u001b[39;00m\u001b[38;5;21;01moptim\u001b[39;00m \u001b[38;5;28;01mimport\u001b[39;00m AdamW\n\u001b[0;32m----> 2\u001b[0m optimizer \u001b[38;5;241m=\u001b[39m AdamW(\u001b[43mmodel\u001b[49m\u001b[38;5;241m.\u001b[39mparameters(), lr\u001b[38;5;241m=\u001b[39m\u001b[38;5;241m5e-5\u001b[39m, fused\u001b[38;5;241m=\u001b[39m\u001b[38;5;28;01mTrue\u001b[39;00m)\n\u001b[1;32m      3\u001b[0m \u001b[38;5;28mprint\u001b[39m(\u001b[38;5;124m\"\u001b[39m\u001b[38;5;124mFused AdamW 使用可能\u001b[39m\u001b[38;5;124m\"\u001b[39m)\n",
      "\u001b[0;31mNameError\u001b[0m: name 'model' is not defined"
     ]
    }
   ],
   "source": [
    "from torch.optim import AdamW\n",
    "optimizer = AdamW(model.parameters(), lr=5e-5, fused=True)\n",
    "print(\"Fused AdamW 使用可能\")"
   ]
  }
 ],
 "metadata": {
  "kernelspec": {
   "display_name": "base",
   "language": "python",
   "name": "python3"
  },
  "language_info": {
   "codemirror_mode": {
    "name": "ipython",
    "version": 3
   },
   "file_extension": ".py",
   "mimetype": "text/x-python",
   "name": "python",
   "nbconvert_exporter": "python",
   "pygments_lexer": "ipython3",
   "version": "3.10.13"
  }
 },
 "nbformat": 4,
 "nbformat_minor": 5
}
